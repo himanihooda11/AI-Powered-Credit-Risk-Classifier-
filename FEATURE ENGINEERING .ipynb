{
 "cells": [
  {
   "cell_type": "code",
   "execution_count": 1,
   "id": "5e2a76b7",
   "metadata": {},
   "outputs": [
    {
     "data": {
      "text/html": [
       "<div>\n",
       "<style scoped>\n",
       "    .dataframe tbody tr th:only-of-type {\n",
       "        vertical-align: middle;\n",
       "    }\n",
       "\n",
       "    .dataframe tbody tr th {\n",
       "        vertical-align: top;\n",
       "    }\n",
       "\n",
       "    .dataframe thead th {\n",
       "        text-align: right;\n",
       "    }\n",
       "</style>\n",
       "<table border=\"1\" class=\"dataframe\">\n",
       "  <thead>\n",
       "    <tr style=\"text-align: right;\">\n",
       "      <th></th>\n",
       "      <th>loan_amnt</th>\n",
       "      <th>funded_amnt</th>\n",
       "      <th>funded_amnt_inv</th>\n",
       "      <th>term</th>\n",
       "      <th>int_rate</th>\n",
       "      <th>installment</th>\n",
       "      <th>grade</th>\n",
       "      <th>sub_grade</th>\n",
       "      <th>emp_length</th>\n",
       "      <th>home_ownership</th>\n",
       "      <th>...</th>\n",
       "      <th>total_il_high_credit_limit</th>\n",
       "      <th>hardship_flag</th>\n",
       "      <th>disbursement_method</th>\n",
       "      <th>debt_settlement_flag</th>\n",
       "      <th>loan_default</th>\n",
       "      <th>log_income</th>\n",
       "      <th>fico_avg</th>\n",
       "      <th>issue_year</th>\n",
       "      <th>issue_month</th>\n",
       "      <th>issue_d</th>\n",
       "    </tr>\n",
       "  </thead>\n",
       "  <tbody>\n",
       "    <tr>\n",
       "      <th>0</th>\n",
       "      <td>3600.0</td>\n",
       "      <td>3600.0</td>\n",
       "      <td>3600.0</td>\n",
       "      <td>36</td>\n",
       "      <td>13.99</td>\n",
       "      <td>123.03</td>\n",
       "      <td>C</td>\n",
       "      <td>C4</td>\n",
       "      <td>10</td>\n",
       "      <td>MORTGAGE</td>\n",
       "      <td>...</td>\n",
       "      <td>13734.0</td>\n",
       "      <td>N</td>\n",
       "      <td>Cash</td>\n",
       "      <td>N</td>\n",
       "      <td>0</td>\n",
       "      <td>10.915107</td>\n",
       "      <td>677.0</td>\n",
       "      <td>2015.0</td>\n",
       "      <td>12.0</td>\n",
       "      <td>2015-12-01</td>\n",
       "    </tr>\n",
       "    <tr>\n",
       "      <th>1</th>\n",
       "      <td>24700.0</td>\n",
       "      <td>24700.0</td>\n",
       "      <td>24700.0</td>\n",
       "      <td>36</td>\n",
       "      <td>11.99</td>\n",
       "      <td>820.28</td>\n",
       "      <td>C</td>\n",
       "      <td>C1</td>\n",
       "      <td>10</td>\n",
       "      <td>MORTGAGE</td>\n",
       "      <td>...</td>\n",
       "      <td>24667.0</td>\n",
       "      <td>N</td>\n",
       "      <td>Cash</td>\n",
       "      <td>N</td>\n",
       "      <td>0</td>\n",
       "      <td>11.082158</td>\n",
       "      <td>717.0</td>\n",
       "      <td>2015.0</td>\n",
       "      <td>12.0</td>\n",
       "      <td>2015-12-01</td>\n",
       "    </tr>\n",
       "    <tr>\n",
       "      <th>2</th>\n",
       "      <td>20000.0</td>\n",
       "      <td>20000.0</td>\n",
       "      <td>20000.0</td>\n",
       "      <td>60</td>\n",
       "      <td>10.78</td>\n",
       "      <td>432.66</td>\n",
       "      <td>B</td>\n",
       "      <td>B4</td>\n",
       "      <td>10</td>\n",
       "      <td>MORTGAGE</td>\n",
       "      <td>...</td>\n",
       "      <td>14877.0</td>\n",
       "      <td>N</td>\n",
       "      <td>Cash</td>\n",
       "      <td>N</td>\n",
       "      <td>0</td>\n",
       "      <td>11.050906</td>\n",
       "      <td>697.0</td>\n",
       "      <td>2015.0</td>\n",
       "      <td>12.0</td>\n",
       "      <td>2015-12-01</td>\n",
       "    </tr>\n",
       "    <tr>\n",
       "      <th>3</th>\n",
       "      <td>10400.0</td>\n",
       "      <td>10400.0</td>\n",
       "      <td>10400.0</td>\n",
       "      <td>60</td>\n",
       "      <td>22.45</td>\n",
       "      <td>289.91</td>\n",
       "      <td>F</td>\n",
       "      <td>F1</td>\n",
       "      <td>3</td>\n",
       "      <td>MORTGAGE</td>\n",
       "      <td>...</td>\n",
       "      <td>88097.0</td>\n",
       "      <td>N</td>\n",
       "      <td>Cash</td>\n",
       "      <td>N</td>\n",
       "      <td>0</td>\n",
       "      <td>11.556311</td>\n",
       "      <td>697.0</td>\n",
       "      <td>2015.0</td>\n",
       "      <td>12.0</td>\n",
       "      <td>2015-12-01</td>\n",
       "    </tr>\n",
       "    <tr>\n",
       "      <th>4</th>\n",
       "      <td>11950.0</td>\n",
       "      <td>11950.0</td>\n",
       "      <td>11950.0</td>\n",
       "      <td>36</td>\n",
       "      <td>13.44</td>\n",
       "      <td>405.18</td>\n",
       "      <td>C</td>\n",
       "      <td>C3</td>\n",
       "      <td>4</td>\n",
       "      <td>RENT</td>\n",
       "      <td>...</td>\n",
       "      <td>4000.0</td>\n",
       "      <td>N</td>\n",
       "      <td>Cash</td>\n",
       "      <td>N</td>\n",
       "      <td>0</td>\n",
       "      <td>10.434145</td>\n",
       "      <td>692.0</td>\n",
       "      <td>2015.0</td>\n",
       "      <td>12.0</td>\n",
       "      <td>2015-12-01</td>\n",
       "    </tr>\n",
       "  </tbody>\n",
       "</table>\n",
       "<p>5 rows × 103 columns</p>\n",
       "</div>"
      ],
      "text/plain": [
       "   loan_amnt  funded_amnt  funded_amnt_inv  term  int_rate  installment grade  \\\n",
       "0     3600.0       3600.0           3600.0    36     13.99       123.03     C   \n",
       "1    24700.0      24700.0          24700.0    36     11.99       820.28     C   \n",
       "2    20000.0      20000.0          20000.0    60     10.78       432.66     B   \n",
       "3    10400.0      10400.0          10400.0    60     22.45       289.91     F   \n",
       "4    11950.0      11950.0          11950.0    36     13.44       405.18     C   \n",
       "\n",
       "  sub_grade  emp_length home_ownership  ...  total_il_high_credit_limit  \\\n",
       "0        C4          10       MORTGAGE  ...                     13734.0   \n",
       "1        C1          10       MORTGAGE  ...                     24667.0   \n",
       "2        B4          10       MORTGAGE  ...                     14877.0   \n",
       "3        F1           3       MORTGAGE  ...                     88097.0   \n",
       "4        C3           4           RENT  ...                      4000.0   \n",
       "\n",
       "  hardship_flag disbursement_method debt_settlement_flag  loan_default  \\\n",
       "0             N                Cash                    N             0   \n",
       "1             N                Cash                    N             0   \n",
       "2             N                Cash                    N             0   \n",
       "3             N                Cash                    N             0   \n",
       "4             N                Cash                    N             0   \n",
       "\n",
       "   log_income fico_avg  issue_year  issue_month     issue_d  \n",
       "0   10.915107    677.0      2015.0         12.0  2015-12-01  \n",
       "1   11.082158    717.0      2015.0         12.0  2015-12-01  \n",
       "2   11.050906    697.0      2015.0         12.0  2015-12-01  \n",
       "3   11.556311    697.0      2015.0         12.0  2015-12-01  \n",
       "4   10.434145    692.0      2015.0         12.0  2015-12-01  \n",
       "\n",
       "[5 rows x 103 columns]"
      ]
     },
     "execution_count": 1,
     "metadata": {},
     "output_type": "execute_result"
    }
   ],
   "source": [
    "import pandas as pd\n",
    "df = pd.read_csv(\"pre_encoded_lendingclub.csv\")\n",
    "df.head()"
   ]
  },
  {
   "cell_type": "markdown",
   "id": "a2bc39d3",
   "metadata": {},
   "source": [
    "# ENCODING \n",
    "grade-> Ordinal (A → G)->Label encode;  sub_grade-> Ordinal (A1 → G5)-> Label encode or One-hot;  home_ownership-> Nominal-> One-hot encode;   purpose-> Nominal-> One-hot encode;   verification_status-> Nominal-> One-hot encode"
   ]
  },
  {
   "cell_type": "markdown",
   "id": "9bc193b4",
   "metadata": {},
   "source": [
    "### Label Encoding grade & sub_grade"
   ]
  },
  {
   "cell_type": "code",
   "execution_count": 2,
   "id": "bc6d81bb",
   "metadata": {},
   "outputs": [],
   "source": [
    "from sklearn.preprocessing import LabelEncoder\n",
    "\n",
    "# Encode grade (A–G)\n",
    "grade_order = ['A', 'B', 'C', 'D', 'E', 'F', 'G']\n",
    "df['grade'] = df['grade'].astype(pd.CategoricalDtype(categories=grade_order, ordered=True))\n",
    "df['grade_encoded'] = df['grade'].cat.codes\n",
    "\n",
    "# Encode sub_grade (A1–G5)\n",
    "sub_grade_order = [f\"{g}{n}\" for g in grade_order for n in range(1,6)]\n",
    "df['sub_grade'] = df['sub_grade'].astype(pd.CategoricalDtype(categories=sub_grade_order, ordered=True))\n",
    "df['sub_grade_encoded'] = df['sub_grade'].cat.codes\n"
   ]
  },
  {
   "cell_type": "markdown",
   "id": "359fd9f8",
   "metadata": {},
   "source": [
    "### One-hot Encode Nominal Categorical Columns"
   ]
  },
  {
   "cell_type": "code",
   "execution_count": 3,
   "id": "c9e4e442",
   "metadata": {},
   "outputs": [],
   "source": [
    "df = pd.get_dummies(df, columns=['home_ownership', 'purpose', 'verification_status'], drop_first=True)\n"
   ]
  },
  {
   "cell_type": "markdown",
   "id": "3c782062",
   "metadata": {},
   "source": [
    "### Drop Unused Original Categorical Columns  "
   ]
  },
  {
   "cell_type": "code",
   "execution_count": 4,
   "id": "48ddbc7c",
   "metadata": {},
   "outputs": [],
   "source": [
    "df.drop(columns=['grade', 'sub_grade'], inplace=True)\n"
   ]
  },
  {
   "cell_type": "code",
   "execution_count": 5,
   "id": "e67bde06",
   "metadata": {},
   "outputs": [
    {
     "data": {
      "text/html": [
       "<div>\n",
       "<style scoped>\n",
       "    .dataframe tbody tr th:only-of-type {\n",
       "        vertical-align: middle;\n",
       "    }\n",
       "\n",
       "    .dataframe tbody tr th {\n",
       "        vertical-align: top;\n",
       "    }\n",
       "\n",
       "    .dataframe thead th {\n",
       "        text-align: right;\n",
       "    }\n",
       "</style>\n",
       "<table border=\"1\" class=\"dataframe\">\n",
       "  <thead>\n",
       "    <tr style=\"text-align: right;\">\n",
       "      <th></th>\n",
       "      <th>verification_status_Source Verified</th>\n",
       "      <th>verification_status_Verified</th>\n",
       "    </tr>\n",
       "  </thead>\n",
       "  <tbody>\n",
       "    <tr>\n",
       "      <th>0</th>\n",
       "      <td>0</td>\n",
       "      <td>0</td>\n",
       "    </tr>\n",
       "  </tbody>\n",
       "</table>\n",
       "</div>"
      ],
      "text/plain": [
       "   verification_status_Source Verified  verification_status_Verified\n",
       "0                                    0                             0"
      ]
     },
     "execution_count": 5,
     "metadata": {},
     "output_type": "execute_result"
    }
   ],
   "source": [
    "df[['grade_encoded', 'sub_grade_encoded']].head()\n",
    "df.filter(like='home_ownership_').head(1)\n",
    "df.filter(like='purpose_').head(1)\n",
    "df.filter(like='verification_status_').head(1)\n"
   ]
  },
  {
   "cell_type": "code",
   "execution_count": 6,
   "id": "e69c2f8e",
   "metadata": {},
   "outputs": [
    {
     "name": "stdout",
     "output_type": "stream",
     "text": [
      "['verification_status_Source Verified', 'verification_status_Verified']\n",
      "['home_ownership_OTHER', 'home_ownership_OWN', 'home_ownership_RENT']\n",
      "['purpose_credit_card', 'purpose_debt_consolidation', 'purpose_home_improvement', 'purpose_house', 'purpose_major_purchase', 'purpose_medical', 'purpose_moving', 'purpose_other', 'purpose_small_business', 'purpose_vacation']\n"
     ]
    }
   ],
   "source": [
    "# See all dummy columns created\n",
    "print([col for col in df.columns if 'verification_status_' in col])\n",
    "print([col for col in df.columns if 'home_ownership_' in col])\n",
    "print([col for col in df.columns if 'purpose_' in col])\n"
   ]
  },
  {
   "cell_type": "code",
   "execution_count": 7,
   "id": "fe01e264",
   "metadata": {},
   "outputs": [
    {
     "name": "stdout",
     "output_type": "stream",
     "text": [
      "Verification Status Dummies:\n",
      " verification_status_Source Verified    521273\n",
      "verification_status_Verified           418336\n",
      "dtype: int64\n",
      "\n",
      "Home Ownership Dummies:\n",
      " home_ownership_OTHER       478\n",
      "home_ownership_OWN      144832\n",
      "home_ownership_RENT     534421\n",
      "dtype: int64\n",
      "\n",
      "Purpose Dummies:\n",
      " purpose_credit_card           295279\n",
      "purpose_debt_consolidation    780321\n",
      "purpose_home_improvement       87504\n",
      "purpose_house                   7253\n",
      "purpose_major_purchase         29425\n",
      "purpose_medical                15554\n",
      "purpose_moving                  9480\n",
      "purpose_other                  81428\n",
      "purpose_small_business         15416\n",
      "purpose_vacation                9065\n",
      "dtype: int64\n"
     ]
    }
   ],
   "source": [
    "# See how many rows belong to each one-hot encoded column\n",
    "print(\"Verification Status Dummies:\\n\", df.filter(like='verification_status_').sum())\n",
    "print(\"\\nHome Ownership Dummies:\\n\", df.filter(like='home_ownership_').sum())\n",
    "print(\"\\nPurpose Dummies:\\n\", df.filter(like='purpose_').sum())\n"
   ]
  },
  {
   "cell_type": "markdown",
   "id": "35afe04e",
   "metadata": {},
   "source": [
    "### With all dummies (for XGBoost, RandomForest)"
   ]
  },
  {
   "cell_type": "markdown",
   "id": "13dfc2ef",
   "metadata": {},
   "source": [
    "✅ For tree-based models (XGBoost, Random Forest, LightGBM). They don’t care about multicollinearity and benefit from all dummy variables."
   ]
  },
  {
   "cell_type": "code",
   "execution_count": 9,
   "id": "f7366dfe",
   "metadata": {},
   "outputs": [],
   "source": [
    "# Save the currently encoded version as-is\n",
    "df.to_csv(\"lendingclub_full_encoded.csv\", index=False)\n"
   ]
  },
  {
   "cell_type": "markdown",
   "id": "b155b078",
   "metadata": {},
   "source": [
    "\n"
   ]
  },
  {
   "cell_type": "code",
   "execution_count": null,
   "id": "0dc80e29",
   "metadata": {},
   "outputs": [],
   "source": []
  },
  {
   "cell_type": "code",
   "execution_count": null,
   "id": "c676d3d2",
   "metadata": {},
   "outputs": [],
   "source": []
  }
 ],
 "metadata": {
  "kernelspec": {
   "display_name": "Python 3 (ipykernel)",
   "language": "python",
   "name": "python3"
  },
  "language_info": {
   "codemirror_mode": {
    "name": "ipython",
    "version": 3
   },
   "file_extension": ".py",
   "mimetype": "text/x-python",
   "name": "python",
   "nbconvert_exporter": "python",
   "pygments_lexer": "ipython3",
   "version": "3.9.4"
  }
 },
 "nbformat": 4,
 "nbformat_minor": 5
}
