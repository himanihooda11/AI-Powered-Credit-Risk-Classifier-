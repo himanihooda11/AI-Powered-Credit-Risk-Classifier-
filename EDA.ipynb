{
 "cells": [
  {
   "cell_type": "code",
   "execution_count": 1,
   "id": "5132a3f8",
   "metadata": {},
   "outputs": [
    {
     "data": {
      "text/html": [
       "<div>\n",
       "<style scoped>\n",
       "    .dataframe tbody tr th:only-of-type {\n",
       "        vertical-align: middle;\n",
       "    }\n",
       "\n",
       "    .dataframe tbody tr th {\n",
       "        vertical-align: top;\n",
       "    }\n",
       "\n",
       "    .dataframe thead th {\n",
       "        text-align: right;\n",
       "    }\n",
       "</style>\n",
       "<table border=\"1\" class=\"dataframe\">\n",
       "  <thead>\n",
       "    <tr style=\"text-align: right;\">\n",
       "      <th></th>\n",
       "      <th>loan_amnt</th>\n",
       "      <th>funded_amnt</th>\n",
       "      <th>funded_amnt_inv</th>\n",
       "      <th>term</th>\n",
       "      <th>int_rate</th>\n",
       "      <th>installment</th>\n",
       "      <th>grade</th>\n",
       "      <th>sub_grade</th>\n",
       "      <th>emp_length</th>\n",
       "      <th>home_ownership</th>\n",
       "      <th>...</th>\n",
       "      <th>pub_rec_bankruptcies</th>\n",
       "      <th>tax_liens</th>\n",
       "      <th>tot_hi_cred_lim</th>\n",
       "      <th>total_bal_ex_mort</th>\n",
       "      <th>total_bc_limit</th>\n",
       "      <th>total_il_high_credit_limit</th>\n",
       "      <th>hardship_flag</th>\n",
       "      <th>disbursement_method</th>\n",
       "      <th>debt_settlement_flag</th>\n",
       "      <th>loan_default</th>\n",
       "    </tr>\n",
       "  </thead>\n",
       "  <tbody>\n",
       "    <tr>\n",
       "      <th>0</th>\n",
       "      <td>3600.0</td>\n",
       "      <td>3600.0</td>\n",
       "      <td>3600.0</td>\n",
       "      <td>36 months</td>\n",
       "      <td>13.99</td>\n",
       "      <td>123.03</td>\n",
       "      <td>C</td>\n",
       "      <td>C4</td>\n",
       "      <td>10+ years</td>\n",
       "      <td>MORTGAGE</td>\n",
       "      <td>...</td>\n",
       "      <td>0.0</td>\n",
       "      <td>0.0</td>\n",
       "      <td>178050.0</td>\n",
       "      <td>7746.0</td>\n",
       "      <td>2400.0</td>\n",
       "      <td>13734.0</td>\n",
       "      <td>N</td>\n",
       "      <td>Cash</td>\n",
       "      <td>N</td>\n",
       "      <td>0</td>\n",
       "    </tr>\n",
       "    <tr>\n",
       "      <th>1</th>\n",
       "      <td>24700.0</td>\n",
       "      <td>24700.0</td>\n",
       "      <td>24700.0</td>\n",
       "      <td>36 months</td>\n",
       "      <td>11.99</td>\n",
       "      <td>820.28</td>\n",
       "      <td>C</td>\n",
       "      <td>C1</td>\n",
       "      <td>10+ years</td>\n",
       "      <td>MORTGAGE</td>\n",
       "      <td>...</td>\n",
       "      <td>0.0</td>\n",
       "      <td>0.0</td>\n",
       "      <td>314017.0</td>\n",
       "      <td>39475.0</td>\n",
       "      <td>79300.0</td>\n",
       "      <td>24667.0</td>\n",
       "      <td>N</td>\n",
       "      <td>Cash</td>\n",
       "      <td>N</td>\n",
       "      <td>0</td>\n",
       "    </tr>\n",
       "    <tr>\n",
       "      <th>2</th>\n",
       "      <td>20000.0</td>\n",
       "      <td>20000.0</td>\n",
       "      <td>20000.0</td>\n",
       "      <td>60 months</td>\n",
       "      <td>10.78</td>\n",
       "      <td>432.66</td>\n",
       "      <td>B</td>\n",
       "      <td>B4</td>\n",
       "      <td>10+ years</td>\n",
       "      <td>MORTGAGE</td>\n",
       "      <td>...</td>\n",
       "      <td>0.0</td>\n",
       "      <td>0.0</td>\n",
       "      <td>218418.0</td>\n",
       "      <td>18696.0</td>\n",
       "      <td>6200.0</td>\n",
       "      <td>14877.0</td>\n",
       "      <td>N</td>\n",
       "      <td>Cash</td>\n",
       "      <td>N</td>\n",
       "      <td>0</td>\n",
       "    </tr>\n",
       "    <tr>\n",
       "      <th>3</th>\n",
       "      <td>10400.0</td>\n",
       "      <td>10400.0</td>\n",
       "      <td>10400.0</td>\n",
       "      <td>60 months</td>\n",
       "      <td>22.45</td>\n",
       "      <td>289.91</td>\n",
       "      <td>F</td>\n",
       "      <td>F1</td>\n",
       "      <td>3 years</td>\n",
       "      <td>MORTGAGE</td>\n",
       "      <td>...</td>\n",
       "      <td>0.0</td>\n",
       "      <td>0.0</td>\n",
       "      <td>439570.0</td>\n",
       "      <td>95768.0</td>\n",
       "      <td>20300.0</td>\n",
       "      <td>88097.0</td>\n",
       "      <td>N</td>\n",
       "      <td>Cash</td>\n",
       "      <td>N</td>\n",
       "      <td>0</td>\n",
       "    </tr>\n",
       "    <tr>\n",
       "      <th>4</th>\n",
       "      <td>11950.0</td>\n",
       "      <td>11950.0</td>\n",
       "      <td>11950.0</td>\n",
       "      <td>36 months</td>\n",
       "      <td>13.44</td>\n",
       "      <td>405.18</td>\n",
       "      <td>C</td>\n",
       "      <td>C3</td>\n",
       "      <td>4 years</td>\n",
       "      <td>RENT</td>\n",
       "      <td>...</td>\n",
       "      <td>0.0</td>\n",
       "      <td>0.0</td>\n",
       "      <td>16900.0</td>\n",
       "      <td>12798.0</td>\n",
       "      <td>9400.0</td>\n",
       "      <td>4000.0</td>\n",
       "      <td>N</td>\n",
       "      <td>Cash</td>\n",
       "      <td>N</td>\n",
       "      <td>0</td>\n",
       "    </tr>\n",
       "  </tbody>\n",
       "</table>\n",
       "<p>5 rows × 104 columns</p>\n",
       "</div>"
      ],
      "text/plain": [
       "   loan_amnt  funded_amnt  funded_amnt_inv        term  int_rate  installment  \\\n",
       "0     3600.0       3600.0           3600.0   36 months     13.99       123.03   \n",
       "1    24700.0      24700.0          24700.0   36 months     11.99       820.28   \n",
       "2    20000.0      20000.0          20000.0   60 months     10.78       432.66   \n",
       "3    10400.0      10400.0          10400.0   60 months     22.45       289.91   \n",
       "4    11950.0      11950.0          11950.0   36 months     13.44       405.18   \n",
       "\n",
       "  grade sub_grade emp_length home_ownership  ...  pub_rec_bankruptcies  \\\n",
       "0     C        C4  10+ years       MORTGAGE  ...                   0.0   \n",
       "1     C        C1  10+ years       MORTGAGE  ...                   0.0   \n",
       "2     B        B4  10+ years       MORTGAGE  ...                   0.0   \n",
       "3     F        F1    3 years       MORTGAGE  ...                   0.0   \n",
       "4     C        C3    4 years           RENT  ...                   0.0   \n",
       "\n",
       "  tax_liens tot_hi_cred_lim total_bal_ex_mort total_bc_limit  \\\n",
       "0       0.0        178050.0            7746.0         2400.0   \n",
       "1       0.0        314017.0           39475.0        79300.0   \n",
       "2       0.0        218418.0           18696.0         6200.0   \n",
       "3       0.0        439570.0           95768.0        20300.0   \n",
       "4       0.0         16900.0           12798.0         9400.0   \n",
       "\n",
       "   total_il_high_credit_limit  hardship_flag disbursement_method  \\\n",
       "0                     13734.0              N                Cash   \n",
       "1                     24667.0              N                Cash   \n",
       "2                     14877.0              N                Cash   \n",
       "3                     88097.0              N                Cash   \n",
       "4                      4000.0              N                Cash   \n",
       "\n",
       "   debt_settlement_flag  loan_default  \n",
       "0                     N             0  \n",
       "1                     N             0  \n",
       "2                     N             0  \n",
       "3                     N             0  \n",
       "4                     N             0  \n",
       "\n",
       "[5 rows x 104 columns]"
      ]
     },
     "execution_count": 1,
     "metadata": {},
     "output_type": "execute_result"
    }
   ],
   "source": [
    "import pandas as pd\n",
    "# Load the cleaned data\n",
    "df = pd.read_csv(\"cleaned_lendingclub.csv\")\n",
    "df.head()"
   ]
  },
  {
   "cell_type": "markdown",
   "id": "d8821d09",
   "metadata": {},
   "source": [
    "### 1. Check Class Balance (Default vs Non-Default)"
   ]
  },
  {
   "cell_type": "code",
   "execution_count": 2,
   "id": "927c7ce9",
   "metadata": {},
   "outputs": [
    {
     "data": {
      "text/plain": [
       "<AxesSubplot:title={'center':'Class Distribution'}>"
      ]
     },
     "execution_count": 2,
     "metadata": {},
     "output_type": "execute_result"
    },
    {
     "data": {
      "image/png": "[encoded data removed]",
      "text/plain": [
       "<Figure size 432x288 with 1 Axes>"
      ]
     },
     "metadata": {
      "needs_background": "light"
     },
     "output_type": "display_data"
    }
   ],
   "source": [
    "df['loan_default'].value_counts(normalize=True).plot(kind='bar', title='Class Distribution')"
   ]
  },
  {
   "cell_type": "markdown",
   "id": "69c00eff",
   "metadata": {},
   "source": [
    "### 2. Default Rate by Loan Grade"
   ]
  },
  {
   "cell_type": "code",
   "execution_count": 3,
   "id": "05da39eb",
   "metadata": {},
   "outputs": [
    {
     "data": {
      "image/png": "[encoded data removed]",
      "text/plain": [
       "<Figure size 432x288 with 1 Axes>"
      ]
     },
     "metadata": {
      "needs_background": "light"
     },
     "output_type": "display_data"
    }
   ],
   "source": [
    "import seaborn as sns\n",
    "import matplotlib.pyplot as plt\n",
    "\n",
    "sns.barplot(x='grade', y='loan_default', data=df)\n",
    "plt.title(\"Default Rate by Loan Grade\")\n",
    "plt.ylabel(\"Default Probability\")\n",
    "plt.show()\n"
   ]
  },
  {
   "cell_type": "markdown",
   "id": "6d069cf7",
   "metadata": {},
   "source": [
    "### 3. Default Rate by Loan Purpose"
   ]
  },
  {
   "cell_type": "code",
   "execution_count": 4,
   "id": "1f79da46",
   "metadata": {},
   "outputs": [
    {
     "data": {
      "image/png": "[encoded data removed]",
      "text/plain": [
       "<Figure size 432x288 with 1 Axes>"
      ]
     },
     "metadata": {
      "needs_background": "light"
     },
     "output_type": "display_data"
    }
   ],
   "source": [
    "purpose_order = df.groupby('purpose')['loan_default'].mean().sort_values(ascending=False).index\n",
    "sns.barplot(x='loan_default', y='purpose', data=df, order=purpose_order)\n",
    "plt.title(\"Default Rate by Purpose\")\n",
    "plt.xlabel(\"Default Probability\")\n",
    "plt.show()\n"
   ]
  },
  {
   "cell_type": "markdown",
   "id": "d10058b1",
   "metadata": {},
   "source": [
    "### 4. Numerical Distributions: DTI, FICO, Annual Income"
   ]
  },
  {
   "cell_type": "code",
   "execution_count": 5,
   "id": "7447d5a3",
   "metadata": {},
   "outputs": [
    {
     "data": {
      "text/plain": [
       "Text(0.5, 1.0, 'Log(Annual Income) by Default Status')"
      ]
     },
     "execution_count": 5,
     "metadata": {},
     "output_type": "execute_result"
    },
    {
     "data": {
      "image/png": "[encoded data removed]",
      "text/plain": [
       "<Figure size 432x288 with 1 Axes>"
      ]
     },
     "metadata": {
      "needs_background": "light"
     },
     "output_type": "display_data"
    },
    {
     "data": {
      "image/png": "[encoded data removed]",
      "text/plain": [
       "<Figure size 720x288 with 2 Axes>"
      ]
     },
     "metadata": {
      "needs_background": "light"
     },
     "output_type": "display_data"
    }
   ],
   "source": [
    "# DTI vs Default\n",
    "sns.boxplot(x='loan_default', y='dti', data=df)\n",
    "plt.title(\"Debt-to-Income Ratio by Default Status\")\n",
    "\n",
    "# FICO Score Distribution\n",
    "df[['fico_range_low', 'fico_range_high']].hist(bins=30, figsize=(10,4))\n",
    "plt.suptitle(\"FICO Score Ranges\")\n",
    "\n",
    "# Annual Income (Log-scaled to handle skew)\n",
    "import numpy as np\n",
    "df['log_income'] = np.log1p(df['annual_inc'])\n",
    "sns.boxplot(x='loan_default', y='log_income', data=df)\n",
    "plt.title(\"Log(Annual Income) by Default Status\")\n"
   ]
  },
  {
   "cell_type": "code",
   "execution_count": 6,
   "id": "cdd3b025",
   "metadata": {},
   "outputs": [
    {
     "data": {
      "text/plain": [
       "Text(0.5, 1.0, 'Log(Annual Income) by Default Status')"
      ]
     },
     "execution_count": 6,
     "metadata": {},
     "output_type": "execute_result"
    },
    {
     "data": {
      "image/png": "[encoded data removed]",
      "text/plain": [
       "<Figure size 432x288 with 1 Axes>"
      ]
     },
     "metadata": {
      "needs_background": "light"
     },
     "output_type": "display_data"
    }
   ],
   "source": [
    "import numpy as np\n",
    "df['log_income'] = np.log1p(df['annual_inc'])\n",
    "\n",
    "sns.boxplot(x='loan_default', y='log_income', data=df)\n",
    "plt.title(\"Log(Annual Income) by Default Status\")\n"
   ]
  },
  {
   "cell_type": "markdown",
   "id": "3672ccd9",
   "metadata": {},
   "source": [
    "# PERSONAL NOTE"
   ]
  },
  {
   "cell_type": "markdown",
   "id": "2f01e68e",
   "metadata": {},
   "source": [
    "📊 Summary of Your Insights So Far:\n",
    "✅ 1. Class Imbalance\n",
    "Majority are non-default (label 0).\n",
    "\n",
    "Default rate is roughly 20–25% — this is imbalanced but not extreme.\n",
    "\n",
    "Consider techniques like SMOTE, class weights, or threshold tuning later.\n",
    "\n",
    "✅ 2. Default Rate by Grade\n",
    "Loans graded F & G have highest default risk.\n",
    "\n",
    "Grade A loans are safest.\n",
    "\n",
    "💡 You can use grade as a strong categorical feature.\n",
    "\n",
    "✅ 3. Purpose vs Default\n",
    "Small business, renewable energy, medical, and moving loans have higher default rates.\n",
    "\n",
    "Car, credit card, and wedding loans are safer.\n",
    "\n",
    "💡 Consider grouping rare/risky purposes together.\n",
    "\n",
    "✅ 4. DTI Distribution\n",
    "Wide spread; outliers exist.\n",
    "\n",
    "DTI values >100 are suspicious — may need outlier removal or capping.\n",
    "\n",
    "✅ 5. FICO Range\n",
    "Majority of borrowers fall between 660 and 740.\n",
    "\n",
    "Lower scores = higher risk.\n",
    "\n",
    "You can bucket FICO scores for modeling."
   ]
  },
  {
   "cell_type": "markdown",
   "id": "c995cf6e",
   "metadata": {},
   "source": [
    "## Minor checks "
   ]
  },
  {
   "cell_type": "markdown",
   "id": "3bd0cae3",
   "metadata": {},
   "source": [
    "1. emp_length is still a string like \"10+ years\" — needs conversion\n",
    "\n",
    "2. term is still a string like \"36 months\" — needs numeric conversion\n",
    "\n",
    "3. issue_d, last_pymnt_d etc. — confirm all relevant date columns are datetime\n",
    "\n",
    "4. If sub_grade exists — might be more granular than grade, worth exploring\n",
    "\n",
    "5. home_ownership, purpose, verification_status — will need one-hot or label encoding\n",
    "\n",
    "6. Any unexpected nulls? → df.isnull().sum().sort_values(ascending=False).head(10)"
   ]
  },
  {
   "cell_type": "code",
   "execution_count": 9,
   "id": "9490b7ba",
   "metadata": {},
   "outputs": [
    {
     "name": "stdout",
     "output_type": "stream",
     "text": [
      "Unique emp_length values:\n",
      "10    520710\n",
      "2     121743\n",
      "0     108061\n",
      "3     107597\n",
      "1      88494\n",
      "5      84154\n",
      "4      80556\n",
      "6      62733\n",
      "8      60701\n",
      "7      59624\n",
      "9      50937\n",
      "Name: emp_length, dtype: int64\n",
      "\n",
      "Unique term values:\n",
      "36    1020743\n",
      "60     324567\n",
      "Name: term, dtype: int64\n",
      "\n",
      "Sample sub_grade values:\n",
      "A1    43678\n",
      "A2    37178\n",
      "A3    37996\n",
      "A4    52235\n",
      "A5    64003\n",
      "B1    71153\n",
      "B2    74024\n",
      "B3    81827\n",
      "B4    83199\n",
      "B5    82538\n",
      "C1    85494\n",
      "C2    79213\n",
      "C3    74998\n",
      "C4    74421\n",
      "C5    67560\n",
      "D1    51321\n",
      "D2    44848\n",
      "D3    39317\n",
      "D4    35566\n",
      "D5    29901\n",
      "E1    23749\n",
      "E2    21377\n",
      "E3    18387\n",
      "E4    15720\n",
      "E5    14417\n",
      "F1     9970\n",
      "F2     7198\n",
      "F3     6088\n",
      "F4     4859\n",
      "F5     3943\n",
      "G1     2997\n",
      "G2     2131\n",
      "G3     1614\n",
      "G4     1280\n",
      "G5     1110\n",
      "Name: sub_grade, dtype: int64\n",
      "\n",
      "Unique values in home_ownership:\n",
      "MORTGAGE    665579\n",
      "RENT        534421\n",
      "OWN         144832\n",
      "OTHER          478\n",
      "Name: home_ownership, dtype: int64\n",
      "\n",
      "Unique values in purpose:\n",
      "debt_consolidation    780321\n",
      "credit_card           295279\n",
      "home_improvement       87504\n",
      "other                  81428\n",
      "major_purchase         29425\n",
      "medical                15554\n",
      "small_business         15416\n",
      "car                    14585\n",
      "moving                  9480\n",
      "vacation                9065\n",
      "house                   7253\n",
      "Name: purpose, dtype: int64\n",
      "\n",
      "Unique values in verification_status:\n",
      "Source Verified    521273\n",
      "Verified           418336\n",
      "Not Verified       405701\n",
      "Name: verification_status, dtype: int64\n",
      "\n",
      "Top 10 columns with missing values:\n",
      "issue_month                       1345310\n",
      "issue_year                        1345310\n",
      "mo_sin_old_rev_tl_op                    0\n",
      "num_actv_rev_tl                         0\n",
      "num_actv_bc_tl                          0\n",
      "num_accts_ever_120_pd                   0\n",
      "mths_since_recent_revol_delinq          0\n",
      "mths_since_recent_inq                   0\n",
      "mths_since_recent_bc_dlq                0\n",
      "mths_since_recent_bc                    0\n",
      "dtype: int64\n"
     ]
    }
   ],
   "source": [
    "# 1. Check emp_length format\n",
    "print(\"Unique emp_length values:\")\n",
    "print(df['emp_length'].value_counts(dropna=False))\n",
    "\n",
    "# 2. Check term format\n",
    "print(\"\\nUnique term values:\")\n",
    "print(df['term'].value_counts(dropna=False))\n",
    "\n",
    "# 3. Confirm all relevant date columns are datetime\n",
    "date_cols = ['issue_d', 'last_pymnt_d', 'next_pymnt_d', 'last_credit_pull_d']\n",
    "for col in date_cols:\n",
    "    if col in df.columns:\n",
    "        print(f\"\\n{col} dtype: {df[col].dtype}\")\n",
    "\n",
    "# 4. Check sub_grade granularity (if exists)\n",
    "if 'sub_grade' in df.columns:\n",
    "    print(\"\\nSample sub_grade values:\")\n",
    "    print(df['sub_grade'].value_counts().sort_index())\n",
    "\n",
    "# 5. Check top categorical features for encoding\n",
    "for col in ['home_ownership', 'purpose', 'verification_status']:\n",
    "    if col in df.columns:\n",
    "        print(f\"\\nUnique values in {col}:\")\n",
    "        print(df[col].value_counts(dropna=False))\n",
    "\n",
    "# 6. Check top null columns\n",
    "print(\"\\nTop 10 columns with missing values:\")\n",
    "print(df.isnull().sum().sort_values(ascending=False).head(10))\n"
   ]
  },
  {
   "cell_type": "code",
   "execution_count": 8,
   "id": "9242b1c2",
   "metadata": {},
   "outputs": [],
   "source": [
    "import pandas as pd\n",
    "import numpy as np\n",
    "\n",
    "### ---------- 1. Convert emp_length to numeric ----------\n",
    "def parse_emp_length(val):\n",
    "    if pd.isnull(val):\n",
    "        return np.nan\n",
    "    if val == '< 1 year':\n",
    "        return 0\n",
    "    elif val == '10+ years':\n",
    "        return 10\n",
    "    else:\n",
    "        return int(val.strip().split()[0])\n",
    "\n",
    "df['emp_length'] = df['emp_length'].apply(parse_emp_length)\n",
    "\n",
    "### ---------- 2. Convert term to integer ----------\n",
    "df['term'] = df['term'].str.extract('(\\d+)').astype(int)\n",
    "\n",
    "### ---------- 3. Convert date columns to datetime ----------\n",
    "date_cols = ['issue_d', 'last_pymnt_d', 'last_credit_pull_d']\n",
    "for col in date_cols:\n",
    "    df[col] = pd.to_datetime(df[col], format='%b-%Y', errors='coerce')\n",
    "\n",
    "### ---------- 4. Drop next_pymnt_d (too many missing) ----------\n",
    "df.drop(columns=['next_pymnt_d'], inplace=True, errors='ignore')\n",
    "\n",
    "### ---------- 5. Combine rare values in home_ownership ----------\n",
    "df['home_ownership'] = df['home_ownership'].replace(['NONE', 'ANY', 'OTHER'], 'OTHER')\n",
    "\n",
    "### ---------- 6. Combine rare purposes (<5000 loans) ----------\n",
    "purpose_counts = df['purpose'].value_counts()\n",
    "rare_purposes = purpose_counts[purpose_counts < 5000].index\n",
    "df['purpose'] = df['purpose'].replace(rare_purposes, 'other')\n",
    "\n",
    "### ---------- 7. Create average FICO score ----------\n",
    "df['fico_avg'] = (df['fico_range_low'] + df['fico_range_high']) / 2\n",
    "\n",
    "### ---------- 8. Create year/month features from issue_d ----------\n",
    "df['issue_year'] = df['issue_d'].dt.year\n",
    "df['issue_month'] = df['issue_d'].dt.month\n",
    "\n",
    "### ---------- 9. Drop unused or duplicate columns ----------\n",
    "drop_cols = [\n",
    "    'fico_range_low', 'fico_range_high', 'issue_d',\n",
    "    'last_pymnt_d', 'last_credit_pull_d'\n",
    "]\n",
    "df.drop(columns=drop_cols, inplace=True, errors='ignore')\n"
   ]
  },
  {
   "cell_type": "code",
   "execution_count": 13,
   "id": "1920eebe",
   "metadata": {},
   "outputs": [
    {
     "data": {
      "text/html": [
       "<div>\n",
       "<style scoped>\n",
       "    .dataframe tbody tr th:only-of-type {\n",
       "        vertical-align: middle;\n",
       "    }\n",
       "\n",
       "    .dataframe tbody tr th {\n",
       "        vertical-align: top;\n",
       "    }\n",
       "\n",
       "    .dataframe thead th {\n",
       "        text-align: right;\n",
       "    }\n",
       "</style>\n",
       "<table border=\"1\" class=\"dataframe\">\n",
       "  <thead>\n",
       "    <tr style=\"text-align: right;\">\n",
       "      <th></th>\n",
       "      <th>issue_d</th>\n",
       "      <th>issue_year</th>\n",
       "      <th>issue_month</th>\n",
       "    </tr>\n",
       "  </thead>\n",
       "  <tbody>\n",
       "    <tr>\n",
       "      <th>0</th>\n",
       "      <td>2015-12-01</td>\n",
       "      <td>2015.0</td>\n",
       "      <td>12.0</td>\n",
       "    </tr>\n",
       "    <tr>\n",
       "      <th>1</th>\n",
       "      <td>2015-12-01</td>\n",
       "      <td>2015.0</td>\n",
       "      <td>12.0</td>\n",
       "    </tr>\n",
       "    <tr>\n",
       "      <th>2</th>\n",
       "      <td>2015-12-01</td>\n",
       "      <td>2015.0</td>\n",
       "      <td>12.0</td>\n",
       "    </tr>\n",
       "    <tr>\n",
       "      <th>3</th>\n",
       "      <td>2015-12-01</td>\n",
       "      <td>2015.0</td>\n",
       "      <td>12.0</td>\n",
       "    </tr>\n",
       "    <tr>\n",
       "      <th>4</th>\n",
       "      <td>2015-12-01</td>\n",
       "      <td>2015.0</td>\n",
       "      <td>12.0</td>\n",
       "    </tr>\n",
       "  </tbody>\n",
       "</table>\n",
       "</div>"
      ],
      "text/plain": [
       "     issue_d  issue_year  issue_month\n",
       "0 2015-12-01      2015.0         12.0\n",
       "1 2015-12-01      2015.0         12.0\n",
       "2 2015-12-01      2015.0         12.0\n",
       "3 2015-12-01      2015.0         12.0\n",
       "4 2015-12-01      2015.0         12.0"
      ]
     },
     "execution_count": 13,
     "metadata": {},
     "output_type": "execute_result"
    }
   ],
   "source": [
    "# Load just the issue_d column from original raw file\n",
    "raw_issue_d = pd.read_csv(\"accepted_2007_to_2018Q4.csv\", usecols=['issue_d'], low_memory=False)\n",
    "\n",
    "# Reattach to current df (assumes row order hasn’t changed)\n",
    "df['issue_d'] = pd.to_datetime(raw_issue_d['issue_d'], format='%b-%Y', errors='coerce')\n",
    "\n",
    "# Now extract year and month\n",
    "df['issue_year'] = df['issue_d'].dt.year\n",
    "df['issue_month'] = df['issue_d'].dt.month\n",
    "\n",
    "# Verify\n",
    "df[['issue_d', 'issue_year', 'issue_month']].head()\n"
   ]
  },
  {
   "cell_type": "code",
   "execution_count": 12,
   "id": "1cc6929f",
   "metadata": {},
   "outputs": [
    {
     "data": {
      "text/html": [
       "<div>\n",
       "<style scoped>\n",
       "    .dataframe tbody tr th:only-of-type {\n",
       "        vertical-align: middle;\n",
       "    }\n",
       "\n",
       "    .dataframe tbody tr th {\n",
       "        vertical-align: top;\n",
       "    }\n",
       "\n",
       "    .dataframe thead th {\n",
       "        text-align: right;\n",
       "    }\n",
       "</style>\n",
       "<table border=\"1\" class=\"dataframe\">\n",
       "  <thead>\n",
       "    <tr style=\"text-align: right;\">\n",
       "      <th></th>\n",
       "      <th>issue_d</th>\n",
       "      <th>issue_year</th>\n",
       "      <th>issue_month</th>\n",
       "    </tr>\n",
       "  </thead>\n",
       "  <tbody>\n",
       "    <tr>\n",
       "      <th>0</th>\n",
       "      <td>NaT</td>\n",
       "      <td>NaN</td>\n",
       "      <td>NaN</td>\n",
       "    </tr>\n",
       "    <tr>\n",
       "      <th>1</th>\n",
       "      <td>NaT</td>\n",
       "      <td>NaN</td>\n",
       "      <td>NaN</td>\n",
       "    </tr>\n",
       "    <tr>\n",
       "      <th>2</th>\n",
       "      <td>NaT</td>\n",
       "      <td>NaN</td>\n",
       "      <td>NaN</td>\n",
       "    </tr>\n",
       "    <tr>\n",
       "      <th>3</th>\n",
       "      <td>NaT</td>\n",
       "      <td>NaN</td>\n",
       "      <td>NaN</td>\n",
       "    </tr>\n",
       "    <tr>\n",
       "      <th>4</th>\n",
       "      <td>NaT</td>\n",
       "      <td>NaN</td>\n",
       "      <td>NaN</td>\n",
       "    </tr>\n",
       "  </tbody>\n",
       "</table>\n",
       "</div>"
      ],
      "text/plain": [
       "  issue_d  issue_year  issue_month\n",
       "0     NaT         NaN          NaN\n",
       "1     NaT         NaN          NaN\n",
       "2     NaT         NaN          NaN\n",
       "3     NaT         NaN          NaN\n",
       "4     NaT         NaN          NaN"
      ]
     },
     "execution_count": 12,
     "metadata": {},
     "output_type": "execute_result"
    }
   ],
   "source": [
    "df[['issue_d', 'issue_year', 'issue_month']].head()\n"
   ]
  },
  {
   "cell_type": "code",
   "execution_count": 14,
   "id": "86c6b0f4",
   "metadata": {},
   "outputs": [],
   "source": [
    "df.to_csv(\"pre_encoded_lendingclub.csv\", index=False)\n"
   ]
  },
  {
   "cell_type": "code",
   "execution_count": null,
   "id": "2ec63420",
   "metadata": {},
   "outputs": [],
   "source": []
  }
 ],
 "metadata": {
  "kernelspec": {
   "display_name": "Python 3 (ipykernel)",
   "language": "python",
   "name": "python3"
  },
  "language_info": {
   "codemirror_mode": {
    "name": "ipython",
    "version": 3
   },
   "file_extension": ".py",
   "mimetype": "text/x-python",
   "name": "python",
   "nbconvert_exporter": "python",
   "pygments_lexer": "ipython3",
   "version": "3.9.4"
  }
 },
 "nbformat": 4,
 "nbformat_minor": 5
}
